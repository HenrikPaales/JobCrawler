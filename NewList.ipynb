{
 "cells": [
  {
   "cell_type": "code",
   "execution_count": 9,
   "metadata": {},
   "outputs": [],
   "source": [
    "import csv\n",
    "\n",
    "def find_new_lines(old_file, new_file, output_file):\n",
    "    # Read old CSV file and store lines in a set for quick comparison\n",
    "    with open(old_file, 'r') as old_csv:\n",
    "        old_lines = set(old_csv.readlines())\n",
    "\n",
    "    # Read new CSV file and find new lines\n",
    "    with open(new_file, 'r') as new_csv:\n",
    "        new_lines = [line for line in new_csv.readlines() if line not in old_lines]\n",
    "\n",
    "    # Write new lines to the output file\n",
    "    with open(output_file, 'w') as output_csv:\n",
    "        output_csv.writelines(new_lines)\n",
    "\n",
    "# Replace 'old.csv', 'new.csv', and 'output.csv' with your actual file names\n",
    "find_new_lines('Joblist1901.csv', 'JobList.csv', 'output.csv')"
   ]
  }
 ],
 "metadata": {
  "kernelspec": {
   "display_name": "Python 3",
   "language": "python",
   "name": "python3"
  },
  "language_info": {
   "codemirror_mode": {
    "name": "ipython",
    "version": 3
   },
   "file_extension": ".py",
   "mimetype": "text/x-python",
   "name": "python",
   "nbconvert_exporter": "python",
   "pygments_lexer": "ipython3",
   "version": "3.9.6"
  }
 },
 "nbformat": 4,
 "nbformat_minor": 2
}
