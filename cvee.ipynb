{
 "cells": [
  {
   "cell_type": "code",
   "execution_count": 64,
   "metadata": {},
   "outputs": [],
   "source": [
    "from bs4 import BeautifulSoup\n",
    "import requests\n",
    "from urllib.parse import urljoin\n",
    "from urllib.parse import urlencode\n",
    "import csv\n"
   ]
  },
  {
   "cell_type": "code",
   "execution_count": 65,
   "metadata": {},
   "outputs": [],
   "source": [
    "# CSV file name\n",
    "csvFile = \"JobList.csv\"\n",
    "\n",
    "# Base URL\n",
    "domain = \"https://cv.ee/et/search?\"\n",
    "\n",
    "# Query parameters\n",
    "params = {\n",
    "    \"limit\": \"1300\",\n",
    "    \"offset\": \"0\",\n",
    "    \"keywords[0]\": \"terraform\",\n",
    "    \"fuzzy\": \"true\",\n",
    "    \"towns[0]\": \"312\",\n",
    "    \"suitableForRefugees\": \"false\",\n",
    "    \"isRemoteWork\": \"true\",\n",
    "    \"isHourlySalary\": \"false\",\n",
    "    \"isQuickApply\": \"false\",\n",
    "    \"sorting\": \"LATEST\",\n",
    "}\n",
    "\n",
    "# Constructing the URL\n",
    "url = f\"{domain}{urlencode(params)}\"\n",
    "\n",
    "# Making the request and parsing the HTML\n",
    "response = requests.get(url)\n",
    "soup = BeautifulSoup(response.text, \"lxml\")"
   ]
  },
  {
   "cell_type": "code",
   "execution_count": 66,
   "metadata": {},
   "outputs": [],
   "source": [
    "# Find all elements\n",
    "job_listing_boxes = soup.find_all(class_=\"vacancies-list__item\")\n",
    "\n",
    "# Initialize results list\n",
    "results = []\n",
    "\n",
    "# Parse all the elements\n",
    "for item in job_listing_boxes:\n",
    "    parsed = {}\n",
    "    if title := item.find(class_=\"vacancy-item__title\"):\n",
    "        parsed[\"title\"] = title.text\n",
    "    if item_url := item.a[\"href\"]:\n",
    "        parsed[\"url\"] = urljoin(url, item_url.split(\"Name:\")[-1])\n",
    "    if company := item.find(class_=\"vacancy-item__body\").a:\n",
    "        parsed[\"company\"] = company.text\n",
    "    if location := item.find(class_=\"vacancy-item__locations\"):\n",
    "        parsed[\"location\"] = location.text\n",
    "    if salary := item.find(class_=\"vacancy-item__salary-label\"):\n",
    "        parsed[\"salary\"] = salary.text\n",
    "    else: parsed[\"salary\"] = \" \"\n",
    "    if expiry := item.find(class_=\"vacancy-item__expiry\"):\n",
    "        parsed[\"expiry\"] = expiry.text.split(\"Tähtaeg: \")[-1].strip()\n",
    "    #if posted_on := item.find(\"span\", class_=\"color-white-mute\", text=re.compile(\"posted:\", re.I)):\n",
    "    #    parsed[\"posted_on\"] = posted_on.text.split(\"Posted:\")[-1].strip()\n",
    "    results.append(parsed)"
   ]
  },
  {
   "cell_type": "code",
   "execution_count": 67,
   "metadata": {},
   "outputs": [
    {
     "data": {
      "text/plain": [
       "[{'title': 'Data & Cloud Engineer',\n",
       "  'url': 'https://cv.ee/et/vacancy/1134583/solita-ou/data-and-cloud-engineer',\n",
       "  'company': 'Solita OÜ',\n",
       "  'location': 'Tartu /  Kaugtöö',\n",
       "  'salary': ' ',\n",
       "  'expiry': '15.02.2024'},\n",
       " {'title': 'Infrastructure Automation/Configuration Specialist - Platform engineering team',\n",
       "  'url': 'https://cv.ee/et/vacancy/1133844/luminor/infrastructure-automation-configuration-specialist-platform-engineering-team',\n",
       "  'company': 'Luminor',\n",
       "  'location': 'Tallinn /  Kaugtöö',\n",
       "  'salary': 'Alates \\xa0€ 3700',\n",
       "  'expiry': '21.01.2024'},\n",
       " {'title': 'Supply IT Infrastructure Architect  ',\n",
       "  'url': 'https://cv.ee/et/vacancy/1132993/ericsson-estonia-as/supply-it-infrastructure-architect',\n",
       "  'company': 'Ericsson Estonia AS',\n",
       "  'location': 'Tallinn',\n",
       "  'salary': ' ',\n",
       "  'expiry': '25.01.2024'},\n",
       " {'title': 'DevOps Engineer with focus on Data Science',\n",
       "  'url': 'https://cv.ee/et/vacancy/1125715/swedbank-as/devops-engineer-with-focus-on-data-science',\n",
       "  'company': 'Swedbank AS',\n",
       "  'location': 'Tallinn /  Kaugtöö',\n",
       "  'salary': '€ 3300 – 5000',\n",
       "  'expiry': '21.01.2024'}]"
      ]
     },
     "execution_count": 67,
     "metadata": {},
     "output_type": "execute_result"
    }
   ],
   "source": [
    "# Print parsed elements\n",
    "results"
   ]
  },
  {
   "cell_type": "code",
   "execution_count": 68,
   "metadata": {},
   "outputs": [],
   "source": [
    "# Write list to CSV file. \n",
    "myFile = open(csvFile, 'w')\n",
    "writer = csv.writer(myFile)\n",
    "writer.writerow(['title', 'url', 'company', \"location\", \"salary\", \"expiry\"])\n",
    "for dictionary in results:\n",
    "    writer.writerow(dictionary.values())\n",
    "myFile.close()"
   ]
  },
  {
   "cell_type": "code",
   "execution_count": 69,
   "metadata": {},
   "outputs": [
    {
     "name": "stdout",
     "output_type": "stream",
     "text": [
      "The content of the csv file is:\n",
      "title,url,company,location,salary,expiry\n",
      "Data & Cloud Engineer,https://cv.ee/et/vacancy/1134583/solita-ou/data-and-cloud-engineer,Solita OÜ,Tartu /  Kaugtöö, ,15.02.2024\n",
      "Infrastructure Automation/Configuration Specialist - Platform engineering team,https://cv.ee/et/vacancy/1133844/luminor/infrastructure-automation-configuration-specialist-platform-engineering-team,Luminor,Tallinn /  Kaugtöö,Alates  € 3700,21.01.2024\n",
      "Supply IT Infrastructure Architect  ,https://cv.ee/et/vacancy/1132993/ericsson-estonia-as/supply-it-infrastructure-architect,Ericsson Estonia AS,Tallinn, ,25.01.2024\n",
      "DevOps Engineer with focus on Data Science,https://cv.ee/et/vacancy/1125715/swedbank-as/devops-engineer-with-focus-on-data-science,Swedbank AS,Tallinn /  Kaugtöö,€ 3300 – 5000,21.01.2024\n",
      "\n"
     ]
    }
   ],
   "source": [
    "# Print CSV file\n",
    "myFile = open(csvFile, 'r')\n",
    "print(\"The content of the csv file is:\")\n",
    "print(myFile.read())\n",
    "myFile.close()"
   ]
  }
 ],
 "metadata": {
  "kernelspec": {
   "display_name": "Python 3",
   "language": "python",
   "name": "python3"
  },
  "language_info": {
   "codemirror_mode": {
    "name": "ipython",
    "version": 3
   },
   "file_extension": ".py",
   "mimetype": "text/x-python",
   "name": "python",
   "nbconvert_exporter": "python",
   "pygments_lexer": "ipython3",
   "version": "3.9.6"
  },
  "orig_nbformat": 4
 },
 "nbformat": 4,
 "nbformat_minor": 2
}
